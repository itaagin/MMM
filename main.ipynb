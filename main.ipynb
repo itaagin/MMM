{
 "cells": [
  {
   "cell_type": "code",
   "execution_count": 1,
   "id": "3aefa448",
   "metadata": {},
   "outputs": [
    {
     "name": "stdout",
     "output_type": "stream",
     "text": [
      "2025-10-22 12:33:25 [DEBUG] __main__: Debug message: logger is initialized correctly.\n",
      "2025-10-22 12:33:25 [INFO] __main__: Info message: logger is working fine.\n",
      "2025-10-22 12:33:25 [WARNING] __main__: Warning message: just a test warning.\n",
      "2025-10-22 12:33:25 [ERROR] __main__: Error message: testing error output.\n"
     ]
    }
   ],
   "source": [
    "from logger import get_logger\n",
    "\n",
    "logger = get_logger(__name__, level=\"DEBUG\")\n",
    "\n",
    "logger.debug(\"Debug message: logger is initialized correctly.\")\n",
    "logger.info(\"Info message: logger is working fine.\")\n",
    "logger.warning(\"Warning message: just a test warning.\")\n",
    "logger.error(\"Error message: testing error output.\")"
   ]
  },
  {
   "cell_type": "code",
   "execution_count": null,
   "id": "11c52487",
   "metadata": {},
   "outputs": [],
   "source": []
  }
 ],
 "metadata": {
  "kernelspec": {
   "display_name": ".venv",
   "language": "python",
   "name": "python3"
  },
  "language_info": {
   "codemirror_mode": {
    "name": "ipython",
    "version": 3
   },
   "file_extension": ".py",
   "mimetype": "text/x-python",
   "name": "python",
   "nbconvert_exporter": "python",
   "pygments_lexer": "ipython3",
   "version": "3.13.0"
  }
 },
 "nbformat": 4,
 "nbformat_minor": 5
}
